{
  "nbformat": 4,
  "nbformat_minor": 0,
  "metadata": {
    "colab": {
      "name": "Nearest Neighbor.ipynb",
      "provenance": [],
      "collapsed_sections": [],
      "authorship_tag": "ABX9TyN1/7qV/xf8WrrW4TLiQjar",
      "include_colab_link": true
    },
    "kernelspec": {
      "display_name": "Python 3",
      "name": "python3"
    },
    "language_info": {
      "name": "python"
    }
  },
  "cells": [
    {
      "cell_type": "markdown",
      "metadata": {
        "id": "view-in-github",
        "colab_type": "text"
      },
      "source": [
        "<a href=\"https://colab.research.google.com/github/rezaizanloo/Machine-Learnig-Algorithm/blob/main/Nearest_Neighbor.ipynb\" target=\"_parent\"><img src=\"https://colab.research.google.com/assets/colab-badge.svg\" alt=\"Open In Colab\"/></a>"
      ]
    },
    {
      "cell_type": "code",
      "metadata": {
        "id": "-zGwPxbiNt2a"
      },
      "source": [
        "# This is the nearest neighbor algorithm for MNIST dataset By Reza Izanloo 2021\n",
        "# Simple case\n",
        "\n",
        "########## 1 #### import library\n",
        "import matplotlib as mpl\n",
        "import matplotlib.pyplot as plt\n",
        "import numpy as np\n",
        "import scipy as sp\n",
        "import scipy.io as sio\n",
        "from tqdm import tqdm\n",
        "from keras.datasets import mnist\n",
        "import tensorflow as tf"
      ],
      "execution_count": null,
      "outputs": []
    },
    {
      "cell_type": "code",
      "metadata": {
        "colab": {
          "base_uri": "https://localhost:8080/"
        },
        "id": "_n7WebBSOSHg",
        "outputId": "1bc0f730-5caa-4c90-b54a-69436c709f5a"
      },
      "source": [
        "########### 2 ####  Load data\n",
        "(train_X, train_Y), (test_X, test_Y) = mnist.load_data()\n",
        "train_X = np.array(train_X, dtype=float, ndmin=2)\n",
        "test_X = np.array(test_X, dtype=float, ndmin=2)\n",
        "\n",
        "n_test = 50\n",
        "train_X = train_X\n",
        "train_Y = train_Y\n",
        "test_X = test_X[0:n_test,:]\n",
        "test_Y = test_Y[0:n_test]\n",
        "\n",
        "print('train_X' + str(train_X.shape))\n",
        "print('train_Y' + str(train_Y.shape))\n",
        "print('test_X' + str(test_X.shape))\n",
        "print('test_Y' + str(test_Y.shape))"
      ],
      "execution_count": null,
      "outputs": [
        {
          "output_type": "stream",
          "name": "stdout",
          "text": [
            "train_X(60000, 28, 28)\n",
            "train_Y(60000,)\n",
            "test_X(50, 28, 28)\n",
            "test_Y(50,)\n"
          ]
        }
      ]
    },
    {
      "cell_type": "code",
      "metadata": {
        "id": "tdMXDxfBOeyR"
      },
      "source": [
        "#3 nearest neighbor alghorithm (show percentage_of_Accuracy + plot )\n",
        "def Nearest_Neighbor(train_X, train_Y, test_X, test_Y):\n",
        "  score = 0\n",
        "  predicted_lable_of_samples = np.zeros(test_Y.shape[0], dtype=int)\n",
        "  nearest_neighbor_index = np.zeros(test_Y.shape[0], dtype=int)\n",
        "  miss_clasify_sample = []\n",
        "  num_of_mis_clasify = 0\n",
        "  for n in range(test_X.shape[0]):\n",
        "    sample_test = test_X[n, :]\n",
        "    sample_test = np.array(sample_test, dtype=float, ndmin=3)   #for being sure that sample_test is 1*28*28\n",
        "    sample_test_repeated = np.repeat(sample_test, train_X.shape[0], axis=0)  #  60000*28*28\n",
        "    diff = (train_X - sample_test_repeated)\n",
        "    diff_squre = diff**2\n",
        "    Sum_of_col =np.sum(np.sum(diff_squre, axis=1), axis=1)\n",
        "    index_of_min_value = np.argmin(Sum_of_col) # index of nearest neighbor\n",
        "    nearest_neighbor_index[n] = index_of_min_value\n",
        "    predicted_lable_of_samples[n] = train_Y[index_of_min_value]\n",
        "    if (predicted_lable_of_samples[n] == test_Y[n]):\n",
        "      score = score + 1\n",
        "    else:\n",
        "      miss_clasify_sample.append([n, index_of_min_value])\n",
        "      num_of_mis_clasify +=1\n",
        "  miss_clasify_sample=np.array(miss_clasify_sample)\n",
        "  percentage_of_Accuracy = (score / test_X.shape[0])*100\n",
        "  print('percentage_of_Accuracy = ' , percentage_of_Accuracy , '\\n   ', score, ' True from ', n_test )\n",
        "  print('number of misclasify = ', num_of_mis_clasify)\n",
        "  \n",
        "  return predicted_lable_of_samples,nearest_neighbor_index, miss_clasify_sample\n",
        "\n",
        "[predicted_lable_of_samples, nearest_neighbor, miss_classify_sample] = Nearest_Neighbor(train_X, train_Y, test_X, test_Y)"
      ],
      "execution_count": null,
      "outputs": []
    },
    {
      "cell_type": "code",
      "metadata": {
        "id": "i0-eJVJXOhwx"
      },
      "source": [
        "#4 ploting\n",
        "rows = 2\n",
        "columns = n_test\n",
        "image = np.zeros([rows*29, columns*29])\n",
        "k = 0\n",
        "for n in range(n_test):\n",
        "  image[0:28,n*29:(n+1)*29-1] = np.reshape(test_X[n,:],[28,28])      # 1,28,28  ---> 28*28\n",
        "  image[29:29+28, n*29:(n+1)*29-1] = np.reshape(train_X[nearest_neighbor[n],:,:],[28,28])\n",
        "plt.imshow(image)\n",
        "plt.show\n",
        "\n",
        "\n"
      ],
      "execution_count": null,
      "outputs": []
    }
  ]
}